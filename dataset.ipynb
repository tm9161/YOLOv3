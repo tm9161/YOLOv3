{
 "cells": [
  {
   "cell_type": "code",
   "execution_count": null,
   "metadata": {},
   "outputs": [],
   "source": [
    "import os\n",
    "\n",
    "xml = os.listdir('VOCdevkit/VOC2007/Annotations')\n",
    "train = open('VOCdevkit/VOC2007/ImageSets/Main/train.txt', 'w')\n",
    "\n",
    "for i in range(0,len(xml)):\n",
    "    name = xml[i][:-4] + '\\n'\n",
    "    train.write(name)\n",
    "\n",
    "train.close()\n",
    "\n",
    "#自己制作的数据集需要运行，生成Main目录下的train.txt文件，VOC官方数据集已自带train.txt文件，不需要执行。\n",
    "#参考：https://blog.csdn.net/tzwsg/article/details/107116132"
   ]
  },
  {
   "cell_type": "code",
   "execution_count": null,
   "metadata": {},
   "outputs": [],
   "source": [
    "sets=[('2007', 'trainval')]\n",
    "classes = [\"aeroplane\", \"bicycle\", \"bird\", \"boat\", \"bottle\", \"bus\", \"car\", \"cat\", \"chair\", \"cow\", \"diningtable\", \"dog\", \"horse\", \"motorbike\", \"person\", \"pottedplant\", \"sheep\", \"sofa\", \"train\", \"tvmonitor\"]\n",
    "\n",
    "# sets=[('2007', 'train')]\n",
    "# classes = [\"airplane\"]\n",
    "\n",
    "#自己制作的数据集需要运行下面两行，VOC官方数据集运行上面两行。"
   ]
  },
  {
   "cell_type": "code",
   "execution_count": null,
   "metadata": {},
   "outputs": [],
   "source": [
    "import xml.etree.ElementTree as ET\n",
    "from os import getcwd\n",
    "\n",
    "def convert_annotation(year, image_id, list_file):\n",
    "    in_file = open('VOCdevkit/VOC%s/Annotations/%s.xml'%(year, image_id))\n",
    "    tree=ET.parse(in_file)\n",
    "    root = tree.getroot()\n",
    "\n",
    "    for obj in root.iter('object'):\n",
    "        difficult = obj.find('difficult').text\n",
    "        cls = obj.find('name').text\n",
    "        if cls not in classes or int(difficult)==1:\n",
    "            continue\n",
    "        cls_id = classes.index(cls)\n",
    "        xmlbox = obj.find('bndbox')\n",
    "        b = (int(xmlbox.find('xmin').text), int(xmlbox.find('ymin').text), int(xmlbox.find('xmax').text), int(xmlbox.find('ymax').text))\n",
    "        list_file.write(\" \" + \",\".join([str(a) for a in b]) + ',' + str(cls_id))\n",
    "        \n",
    "wd = getcwd()\n",
    "\n",
    "for year, image_set in sets:\n",
    "    image_ids = open('VOCdevkit/VOC%s/ImageSets/Main/%s.txt'%(year, image_set)).read().strip().split()\n",
    "    list_file = open('%s_%s.txt'%(year, image_set), 'w')\n",
    "    for image_id in image_ids:\n",
    "        list_file.write('%s/VOCdevkit/VOC%s/JPEGImages/%s.jpg'%(wd, year, image_id))\n",
    "        convert_annotation(year, image_id, list_file)\n",
    "        list_file.write('\\n')\n",
    "    list_file.close()\n",
    "    \n",
    "#生成图片路径+标签信息的txt，用于YOLOv3后续载入数据集使用。\n",
    "#参考：https://github.com/qqwweee/keras-yolo3/blob/master/voc_annotation.py"
   ]
  },
  {
   "cell_type": "code",
   "execution_count": null,
   "metadata": {},
   "outputs": [],
   "source": []
  }
 ],
 "metadata": {
  "kernelspec": {
   "display_name": "Python 3",
   "language": "python",
   "name": "python3"
  },
  "language_info": {
   "codemirror_mode": {
    "name": "ipython",
    "version": 3
   },
   "file_extension": ".py",
   "mimetype": "text/x-python",
   "name": "python",
   "nbconvert_exporter": "python",
   "pygments_lexer": "ipython3",
   "version": "3.8.5"
  },
  "vscode": {
   "interpreter": {
    "hash": "2a3fa4898b6df03057227b86708658af4d4b70a995048284f691871c1cf04ab2"
   }
  }
 },
 "nbformat": 4,
 "nbformat_minor": 2
}
