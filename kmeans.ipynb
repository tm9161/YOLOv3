{
 "cells": [
  {
   "cell_type": "code",
   "execution_count": 1,
   "metadata": {},
   "outputs": [],
   "source": [
    "import numpy as np"
   ]
  },
  {
   "cell_type": "code",
   "execution_count": 2,
   "metadata": {},
   "outputs": [],
   "source": [
    "def txt2boxes():\n",
    "    # 打开包含边界框信息的文本文件\n",
    "    f = open(filename, 'r')\n",
    "    dataSet = []  # 初始化存储边界框尺寸的列表\n",
    "    for line in f:  # 遍历文件的每一行\n",
    "        infos = line.split(\" \")  # 通过空格分割每行的信息\n",
    "        length = len(infos)\n",
    "        for i in range(1, length):  # 从第二个元素开始遍历（跳过图像路径）\n",
    "            # 计算边界框的宽度：xmax - xmin\n",
    "            width = int(infos[i].split(\",\")[2]) - int(infos[i].split(\",\")[0])\n",
    "            # 计算边界框的高度：ymax - ymin\n",
    "            height = int(infos[i].split(\",\")[3]) - int(infos[i].split(\",\")[1])\n",
    "            dataSet.append([width, height])  # 添加到数据集列表\n",
    "    result = np.array(dataSet)  # 将列表转换为NumPy数组\n",
    "    f.close()  # 关闭文件\n",
    "    return result  # 返回包含所有边界框尺寸的NumPy数组"
   ]
  },
  {
   "cell_type": "code",
   "execution_count": 3,
   "metadata": {},
   "outputs": [],
   "source": [
    "def iou(boxes, clusters):  # 计算一组边界框和聚类（锚框）的IoU\n",
    "    n = boxes.shape[0]  # 边界框数量\n",
    "    k = cluster_number  # 聚类数量\n",
    "\n",
    "    # 计算边界框的面积\n",
    "    box_area = boxes[:, 0] * boxes[:, 1]  # 宽*高\n",
    "    box_area = box_area.repeat(k)  # 每个边界框面积重复k次\n",
    "    box_area = np.reshape(box_area, (n, k))  # 重塑为n*k的矩阵\n",
    "\n",
    "    # 计算聚类的面积\n",
    "    cluster_area = clusters[:, 0] * clusters[:, 1]  # 聚类的宽*高\n",
    "    cluster_area = np.tile(cluster_area, [1, n])  # 每个聚类面积重复n次\n",
    "    cluster_area = np.reshape(cluster_area, (n, k))  # 重塑为n*k的矩阵\n",
    "\n",
    "    # 计算宽度的最小值矩阵\n",
    "    box_w_matrix = np.reshape(boxes[:, 0].repeat(k), (n, k))  # 边界框宽度重复k次并重塑\n",
    "    cluster_w_matrix = np.reshape(np.tile(clusters[:, 0], (1, n)), (n, k))  # 聚类宽度重复n次并重塑\n",
    "    min_w_matrix = np.minimum(cluster_w_matrix, box_w_matrix)  # 宽度的最小值\n",
    "\n",
    "    # 计算高度的最小值矩阵\n",
    "    box_h_matrix = np.reshape(boxes[:, 1].repeat(k), (n, k))  # 边界框高度重复k次并重塑\n",
    "    cluster_h_matrix = np.reshape(np.tile(clusters[:, 1], (1, n)), (n, k))  # 聚类高度重复n次并重塑\n",
    "    min_h_matrix = np.minimum(cluster_h_matrix, box_h_matrix)  # 高度的最小值\n",
    "\n",
    "    # 计算交叉区域的面积\n",
    "    inter_area = np.multiply(min_w_matrix, min_h_matrix)  # 交叉区域面积\n",
    "\n",
    "    # 计算IoU\n",
    "    result = inter_area / (box_area + cluster_area - inter_area)  # IoU计算公式\n",
    "    return result  # 返回IoU值矩阵"
   ]
  },
  {
   "cell_type": "code",
   "execution_count": 4,
   "metadata": {},
   "outputs": [],
   "source": [
    "def kmeans(boxes, k, dist=np.median):\n",
    "    box_number = boxes.shape[0]  # 边界框的总数\n",
    "    distances = np.empty((box_number, k))  # 存储每个边界框到聚类中心的距离\n",
    "    last_nearest = np.zeros((box_number,))  # 上一次每个边界框最近的聚类中心\n",
    "    np.random.seed()  # 初始化随机种子\n",
    "    clusters = boxes[np.random.choice(box_number, k, replace=False)]  # 随机初始化k个聚类中心\n",
    "\n",
    "    while True:\n",
    "        distances = 1 - iou(boxes, clusters)  # 计算所有边界框与聚类中心的1-IoU作为距离\n",
    "\n",
    "        current_nearest = np.argmin(distances, axis=1)  # 找到每个边界框最近的聚类中心\n",
    "        if (last_nearest == current_nearest).all():  # 如果聚类中心不再变化，则结束迭代\n",
    "            break\n",
    "        for cluster in range(k):  # 更新每个聚类中心\n",
    "            clusters[cluster] = dist(boxes[current_nearest == cluster], axis=0)\n",
    "\n",
    "        last_nearest = current_nearest  # 更新上一次的聚类中心为当前聚类中心\n",
    "\n",
    "    return clusters  # 返回聚类中心，即最终确定的锚框尺寸"
   ]
  },
  {
   "cell_type": "code",
   "execution_count": 5,
   "metadata": {},
   "outputs": [],
   "source": [
    "def avg_iou(boxes, clusters):\n",
    "    # 计算boxes与clusters之间的最大IoU值，然后计算这些最大值的平均值\n",
    "    accuracy = np.mean([np.max(iou(boxes, clusters), axis=1)])\n",
    "    return accuracy  # 返回平均IoU值，作为聚类性能的衡量指标"
   ]
  },
  {
   "cell_type": "code",
   "execution_count": 6,
   "metadata": {},
   "outputs": [
    {
     "name": "stdout",
     "output_type": "stream",
     "text": [
      "K anchors:\n",
      " [[ 25  36]\n",
      " [ 34  83]\n",
      " [ 62  50]\n",
      " [ 65 131]\n",
      " [118 209]\n",
      " [120  95]\n",
      " [209 290]\n",
      " [242 144]\n",
      " [385 295]]\n",
      "Accuracy: 68.86%\n"
     ]
    }
   ],
   "source": [
    "# 设置聚类的数量和边界框信息文件的名称\n",
    "cluster_number = 9\n",
    "filename = \"2007_trainval.txt\"\n",
    "\n",
    "# 从文本文件中提取所有边界框的尺寸\n",
    "all_boxes = txt2boxes()\n",
    "\n",
    "# 使用k-means算法对边界框的尺寸进行聚类，找到最佳的锚框尺寸\n",
    "result = kmeans(all_boxes, cluster_number)\n",
    "\n",
    "# 对聚类得到的锚框尺寸进行排序\n",
    "result = result[np.lexsort(result.T[0, None])]\n",
    "\n",
    "# 打印聚类得到的锚框尺寸\n",
    "print(\"K anchors:\\n {}\".format(result))\n",
    "\n",
    "# 计算并打印所有边界框尺寸与聚类结果之间的平均IoU值\n",
    "print(\"Accuracy: {:.2f}%\".format(avg_iou(all_boxes, result) * 100))"
   ]
  }
 ],
 "metadata": {
  "kernelspec": {
   "display_name": "Python 3",
   "language": "python",
   "name": "python3"
  },
  "language_info": {
   "codemirror_mode": {
    "name": "ipython",
    "version": 3
   },
   "file_extension": ".py",
   "mimetype": "text/x-python",
   "name": "python",
   "nbconvert_exporter": "python",
   "pygments_lexer": "ipython3",
   "version": "3.8.5"
  }
 },
 "nbformat": 4,
 "nbformat_minor": 4
}
